{
 "cells": [
  {
   "cell_type": "markdown",
   "id": "889f7fc3",
   "metadata": {},
   "source": [
    "# Section 10: Integral Calculus"
   ]
  },
  {
   "cell_type": "markdown",
   "id": "923fe5b9",
   "metadata": {},
   "source": []
  },
  {
   "cell_type": "code",
   "execution_count": 1,
   "id": "d6937c2e",
   "metadata": {},
   "outputs": [],
   "source": [
    "from scipy.integrate import quad"
   ]
  },
  {
   "cell_type": "markdown",
   "id": "86577a58",
   "metadata": {},
   "source": [
    "From the slides: $$ \\int_1^2 \\frac{x}{2} dx = \\frac{3}{4} $$"
   ]
  },
  {
   "cell_type": "code",
   "execution_count": 4,
   "id": "317d99f4",
   "metadata": {},
   "outputs": [],
   "source": [
    "def f(x):\n",
    "    return x/2\n",
    "\n",
    "# Excercise\n",
    "def f2(x):\n",
    "    return 2*x"
   ]
  },
  {
   "cell_type": "code",
   "execution_count": null,
   "id": "c4753b97",
   "metadata": {},
   "outputs": [
    {
     "data": {
      "text/plain": [
       "(0.75, 8.326672684688674e-15)"
      ]
     },
     "execution_count": 3,
     "metadata": {},
     "output_type": "execute_result"
    }
   ],
   "source": [
    "quad(f,1,2) # second argument is \"error\""
   ]
  },
  {
   "cell_type": "code",
   "execution_count": 5,
   "id": "428b8b01",
   "metadata": {},
   "outputs": [
    {
     "data": {
      "text/plain": [
       "(7.0, 7.771561172376096e-14)"
      ]
     },
     "execution_count": 5,
     "metadata": {},
     "output_type": "execute_result"
    }
   ],
   "source": [
    "quad(f2,3,4)"
   ]
  },
  {
   "cell_type": "markdown",
   "id": "61aa0da6",
   "metadata": {},
   "source": [
    "## 104. Finding the area under the ROC curve"
   ]
  },
  {
   "cell_type": "code",
   "execution_count": 7,
   "id": "dbfff2e0",
   "metadata": {},
   "outputs": [],
   "source": [
    "from sklearn.metrics import auc"
   ]
  },
  {
   "cell_type": "markdown",
   "id": "e9482120",
   "metadata": {},
   "source": [
    "From the slides, the $(x, y)$ coordinates of our hot dog-detecting ROC curve are: \n",
    "\n",
    "* (0, 0)\n",
    "* (0, 0.5)\n",
    "* (0.5, 0.5)\n",
    "* (0.5, 1)\n",
    "* (1, 1)"
   ]
  },
  {
   "cell_type": "code",
   "execution_count": 8,
   "id": "3f1956b7",
   "metadata": {},
   "outputs": [],
   "source": [
    "xs = [0, 0,   0.5, 0.5, 1]\n",
    "ys = [0, 0.5, 0.5, 1,   1]"
   ]
  },
  {
   "cell_type": "code",
   "execution_count": 9,
   "id": "38a96825",
   "metadata": {},
   "outputs": [
    {
     "data": {
      "text/plain": [
       "np.float64(0.75)"
      ]
     },
     "execution_count": 9,
     "metadata": {},
     "output_type": "execute_result"
    }
   ],
   "source": [
    "auc(xs, ys)"
   ]
  },
  {
   "cell_type": "code",
   "execution_count": null,
   "id": "0b15e250",
   "metadata": {},
   "outputs": [],
   "source": []
  }
 ],
 "metadata": {
  "kernelspec": {
   "display_name": "Python 3",
   "language": "python",
   "name": "python3"
  },
  "language_info": {
   "codemirror_mode": {
    "name": "ipython",
    "version": 3
   },
   "file_extension": ".py",
   "mimetype": "text/x-python",
   "name": "python",
   "nbconvert_exporter": "python",
   "pygments_lexer": "ipython3",
   "version": "3.10.11"
  }
 },
 "nbformat": 4,
 "nbformat_minor": 5
}
