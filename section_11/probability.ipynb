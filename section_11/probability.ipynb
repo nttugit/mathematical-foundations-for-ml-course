{
 "cells": [
  {
   "cell_type": "markdown",
   "id": "4f3e2eab",
   "metadata": {},
   "source": [
    "# Section 11: Probability"
   ]
  },
  {
   "cell_type": "markdown",
   "id": "723d32b7",
   "metadata": {},
   "source": [
    "## Excercise"
   ]
  },
  {
   "cell_type": "code",
   "execution_count": 1,
   "id": "00351760",
   "metadata": {},
   "outputs": [],
   "source": [
    "import math"
   ]
  },
  {
   "cell_type": "code",
   "execution_count": null,
   "id": "f0fecf8a",
   "metadata": {},
   "outputs": [
    {
     "data": {
      "text/plain": [
       "10.0"
      ]
     },
     "execution_count": 10,
     "metadata": {},
     "output_type": "execute_result"
    }
   ],
   "source": [
    "def cal_combinations(n, k):\n",
    "    # return math.perm(n) / (math.perm(k) * math.perm(n-k))\n",
    "    return math.factorial(n) / (math.factorial(k) * math.factorial(n-k))\n",
    "cal_combinations(5,3)"
   ]
  },
  {
   "cell_type": "code",
   "execution_count": 11,
   "id": "d6a49402",
   "metadata": {},
   "outputs": [
    {
     "data": {
      "text/plain": [
       "0.3125"
      ]
     },
     "execution_count": 11,
     "metadata": {},
     "output_type": "execute_result"
    }
   ],
   "source": [
    "# THe probability of throwing 3 heads in 5 coin tosses\n",
    "P = cal_combinations(5,3) / (2 ** 5)\n",
    "P"
   ]
  },
  {
   "cell_type": "code",
   "execution_count": 17,
   "id": "d50ceb9d",
   "metadata": {},
   "outputs": [
    {
     "name": "stdout",
     "output_type": "stream",
     "text": [
      "0.03125\n",
      "0.15625\n",
      "0.3125\n",
      "0.3125\n",
      "0.15625\n",
      "0.03125\n"
     ]
    }
   ],
   "source": [
    "for i in range(6):\n",
    "    print(cal_combinations(5,i) / (2**5))"
   ]
  },
  {
   "cell_type": "code",
   "execution_count": null,
   "id": "5c94e46e",
   "metadata": {},
   "outputs": [],
   "source": []
  }
 ],
 "metadata": {
  "kernelspec": {
   "display_name": "Python 3",
   "language": "python",
   "name": "python3"
  },
  "language_info": {
   "codemirror_mode": {
    "name": "ipython",
    "version": 3
   },
   "file_extension": ".py",
   "mimetype": "text/x-python",
   "name": "python",
   "nbconvert_exporter": "python",
   "pygments_lexer": "ipython3",
   "version": "3.10.11"
  }
 },
 "nbformat": 4,
 "nbformat_minor": 5
}
