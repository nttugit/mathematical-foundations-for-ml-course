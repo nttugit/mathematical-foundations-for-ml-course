{
 "cells": [
  {
   "cell_type": "markdown",
   "id": "3f916f96",
   "metadata": {},
   "source": [
    "# Segment 2: Tensor operation"
   ]
  },
  {
   "cell_type": "markdown",
   "id": "0221ae9b",
   "metadata": {},
   "source": [
    "## 15. Tensor tranposition"
   ]
  },
  {
   "cell_type": "code",
   "execution_count": 4,
   "id": "6bef4470",
   "metadata": {},
   "outputs": [],
   "source": [
    "import numpy as np\n",
    "import torch as torch\n",
    "import tensorflow as tf\n",
    "import matplotlib.pyplot as plt"
   ]
  },
  {
   "cell_type": "code",
   "execution_count": 9,
   "id": "c18a7f16",
   "metadata": {},
   "outputs": [
    {
     "name": "stdout",
     "output_type": "stream",
     "text": [
      "[[25  2]\n",
      " [ 5 26]\n",
      " [ 3  7]]\n",
      "[[25  5  3]\n",
      " [ 2 26  7]]\n",
      "tensor([[25,  5,  3],\n",
      "        [ 2, 26,  7]])\n",
      "tf.Tensor(\n",
      "[[25  5  3]\n",
      " [ 2 26  7]], shape=(2, 3), dtype=int32)\n"
     ]
    }
   ],
   "source": [
    "X = np.array([[25,2],[5,26],[3,7]])\n",
    "X_torch = torch.tensor([[25,2],[5,26],[3,7]])\n",
    "X_tf = tf.Variable([[25,2],[5,26],[3,7]])\n",
    "print(X)\n",
    "print(X.T)\n",
    "print(X_torch.T)\n",
    "print(tf.transpose(X_tf))"
   ]
  },
  {
   "cell_type": "markdown",
   "id": "0e2f8aff",
   "metadata": {},
   "source": [
    "## 16. Basic tensor arithmetic. The Hadamard Product\n",
    "The Hadamard Product: the element-wise product ($A \\odot B$)"
   ]
  },
  {
   "cell_type": "code",
   "execution_count": 16,
   "id": "2e4692f0",
   "metadata": {},
   "outputs": [
    {
     "name": "stdout",
     "output_type": "stream",
     "text": [
      "[[52  6]\n",
      " [12 54]\n",
      " [ 8 16]]\n",
      "[[52  6]\n",
      " [12 54]\n",
      " [ 8 16]]\n",
      "tensor([[52,  6],\n",
      "        [12, 54],\n",
      "        [ 8, 16]])\n",
      "tensor([[52,  6],\n",
      "        [12, 54],\n",
      "        [ 8, 16]])\n",
      "tf.Tensor(\n",
      "[[52  6]\n",
      " [12 54]\n",
      " [ 8 16]], shape=(3, 2), dtype=int32)\n"
     ]
    }
   ],
   "source": [
    "# Add, multiply with a scalar\n",
    "print(X * 2 + 2)\n",
    "print(np.add(np.multiply(X,2),2))\n",
    "print(X_torch * 2 + 2)\n",
    "print(torch.add(torch.mul(X_torch,2),2))\n",
    "print(tf.add(tf.multiply(X_tf,2),2))"
   ]
  },
  {
   "cell_type": "code",
   "execution_count": 18,
   "id": "7978d691",
   "metadata": {},
   "outputs": [
    {
     "data": {
      "text/plain": [
       "array([[26,  3],\n",
       "       [ 6, 27],\n",
       "       [ 4,  8]])"
      ]
     },
     "execution_count": 18,
     "metadata": {},
     "output_type": "execute_result"
    }
   ],
   "source": [
    "A = X + 1\n",
    "A"
   ]
  },
  {
   "cell_type": "code",
   "execution_count": 20,
   "id": "22f1499c",
   "metadata": {},
   "outputs": [
    {
     "name": "stdout",
     "output_type": "stream",
     "text": [
      "[[51  5]\n",
      " [11 53]\n",
      " [ 7 15]]\n",
      "[[1 1]\n",
      " [1 1]\n",
      " [1 1]]\n",
      "[[650   6]\n",
      " [ 30 702]\n",
      " [ 12  56]]\n",
      "[[1.04       1.5       ]\n",
      " [1.2        1.03846154]\n",
      " [1.33333333 1.14285714]]\n"
     ]
    }
   ],
   "source": [
    "print(A+X)\n",
    "print(A-X)\n",
    "print(A * X)\n",
    "print(A/X)"
   ]
  },
  {
   "cell_type": "markdown",
   "id": "a66b0163",
   "metadata": {},
   "source": [
    "## 17. Tensor reduction"
   ]
  },
  {
   "cell_type": "code",
   "execution_count": 23,
   "id": "5960128b",
   "metadata": {},
   "outputs": [
    {
     "name": "stdout",
     "output_type": "stream",
     "text": [
      "tensor(68)\n",
      "tf.Tensor(68, shape=(), dtype=int32)\n"
     ]
    }
   ],
   "source": [
    "X.sum()\n",
    "print(torch.sum(X_torch))\n",
    "print(tf.reduce_sum(X_tf))"
   ]
  },
  {
   "cell_type": "code",
   "execution_count": 24,
   "id": "dce36b3d",
   "metadata": {},
   "outputs": [
    {
     "data": {
      "text/plain": [
       "26"
      ]
     },
     "execution_count": 24,
     "metadata": {},
     "output_type": "execute_result"
    }
   ],
   "source": [
    "X.max()"
   ]
  },
  {
   "cell_type": "markdown",
   "id": "b1faad2e",
   "metadata": {},
   "source": [
    "## 18. Dot product\n",
    "- $x \\cdot y$\n",
    "- $x^Ty$\n",
    "- $\\langle x, y \\rangle$"
   ]
  },
  {
   "cell_type": "code",
   "execution_count": 25,
   "id": "8667be02",
   "metadata": {},
   "outputs": [],
   "source": [
    "x = np.array([25, 2, 5])\n",
    "y = np.array([0, 1, 2])"
   ]
  },
  {
   "cell_type": "code",
   "execution_count": 28,
   "id": "f79d40f2",
   "metadata": {},
   "outputs": [
    {
     "name": "stdout",
     "output_type": "stream",
     "text": [
      "12\n",
      "12\n",
      "tensor(12, dtype=torch.int32)\n"
     ]
    }
   ],
   "source": [
    "print(np.dot(x,y))\n",
    "print(x @ y)\n",
    "print(torch.dot(torch.tensor(x),torch.tensor(y)))\n",
    "# print(tf.dot)"
   ]
  },
  {
   "cell_type": "code",
   "execution_count": 37,
   "id": "e89fe1a0",
   "metadata": {},
   "outputs": [
    {
     "name": "stdout",
     "output_type": "stream",
     "text": [
      "tf.Tensor(12, shape=(), dtype=int32)\n",
      "tf.Tensor(12, shape=(), dtype=int32)\n",
      "tf.Tensor(12, shape=(), dtype=int32)\n"
     ]
    }
   ],
   "source": [
    "x_tf = tf.Variable(x)\n",
    "y_tf = tf.Variable(y)\n",
    "print(tf.reduce_sum(tf.multiply(x_tf, y_tf)))\n",
    "print(tf.reduce_sum(x_tf * y_tf))\n",
    "print(tf.tensordot(x_tf,y_tf,axes=1))"
   ]
  },
  {
   "cell_type": "markdown",
   "id": "00405843",
   "metadata": {},
   "source": [
    "## 19. Excercises on Tensor operations"
   ]
  },
  {
   "cell_type": "code",
   "execution_count": null,
   "id": "58396414",
   "metadata": {},
   "outputs": [
    {
     "data": {
      "text/plain": [
       "array([[ 42, -99],\n",
       "       [  4,  -3],\n",
       "       [  7,  17],\n",
       "       [ 99,  22]])"
      ]
     },
     "execution_count": 39,
     "metadata": {},
     "output_type": "execute_result"
    }
   ],
   "source": [
    "# 1.\n",
    "y = np.array([[42, 4, 7, 99],[-99, -3, 17, 22]])\n",
    "# My result: yT(2x4) = [[42 -99], [4, -3], [7, 18], [99, 22]]\n",
    "y.T"
   ]
  },
  {
   "cell_type": "code",
   "execution_count": 40,
   "id": "7e59a0b8",
   "metadata": {},
   "outputs": [
    {
     "data": {
      "text/plain": [
       "array([[-25,  70],\n",
       "       [-20,   8]])"
      ]
     },
     "execution_count": 40,
     "metadata": {},
     "output_type": "execute_result"
    }
   ],
   "source": [
    "# 2. Hadamard product\n",
    "a = np.array([[25,10],[-2, 1]])\n",
    "b = np.array([[-1,7],[10,8]])\n",
    "# My result: (2x2) [[-25, 70], [-20, 8]]\n",
    "a * b"
   ]
  },
  {
   "cell_type": "code",
   "execution_count": 41,
   "id": "46616dbf",
   "metadata": {},
   "outputs": [
    {
     "data": {
      "text/plain": [
       "15"
      ]
     },
     "execution_count": 41,
     "metadata": {},
     "output_type": "execute_result"
    }
   ],
   "source": [
    "# 3. Dot product of the tensors w and x\n",
    "w = np.array([-1, 2, -2])\n",
    "x = np.array([5, 10, 0])\n",
    "# My result: 15\n",
    "w @ x"
   ]
  },
  {
   "cell_type": "markdown",
   "id": "1bd20cd8",
   "metadata": {},
   "source": [
    "## 20. Solving Linear systems with substitution"
   ]
  },
  {
   "cell_type": "markdown",
   "id": "56ccf2b1",
   "metadata": {},
   "source": [
    "#### 1. x + y = 6 and 2x + 3y = 16\n",
    "- x + y = 6 => x = 6 - y\n",
    "- 2x + 3y + 16\n",
    "- => 2(6 - y) + 3y = 16 => y = 4 => x = 6 - 4 = 2\n",
    "\n",
    "#### 2. -x + 4y = 0 and 2x - 5y = -6\n",
    "- -x + 4y = 0 => x = 4y\n",
    "- 2x - 5y = -6\n",
    "- => 2(4y) - 5y = -6 => y = -2 => x = -8\n",
    "\n",
    "#### 3. y = 4x + 1 and -4x + y = 2\n",
    "- -4x + y = 2\n",
    "- => -4x + (4x + 1) = 2 => 1 = 2 (non-sense), no solution\n"
   ]
  },
  {
   "cell_type": "markdown",
   "id": "3cd966b0",
   "metadata": {},
   "source": [
    "## 21. Solving Linear systems with Elimination"
   ]
  },
  {
   "cell_type": "markdown",
   "id": "e55a0a62",
   "metadata": {},
   "source": [
    "#### 1. 4x - 3y = 25 and -3x + 8y = 10\n",
    "- $$ => 12x - 9y = 75 $$\n",
    "- $$ 12x + 32y = 40 $$\n",
    "- $$ => 23y = 115 => y = 5 => 4x - 3(5) = 25 => x = 10 $$\n",
    "\n",
    "#### 2. -9x - 15y = -15 and 3x + 5y = -10\n",
    "- -9x - 15y = -15 and 9x + 15y = -30\n",
    "- => 0 = -45 (no solution)\n",
    "\n",
    "#### 3. 4x + 2y = 4 and -5x - 3y = -7\n",
    "- 12x + 6y = 12 and -10x -6y = -14\n",
    "- => 2x = -2 => x = -1 => 4(-1) + 2y = 4 => y = 0"
   ]
  },
  {
   "cell_type": "markdown",
   "id": "ba933ae9",
   "metadata": {},
   "source": [
    "## 22. Visualizing Linear Systems"
   ]
  },
  {
   "cell_type": "markdown",
   "id": "257e2198",
   "metadata": {},
   "source": [
    "### Example 1:\n",
    "$$ y = 3x $$\n",
    "$$ -5x + 2y = 2 $$\n",
    "- We solve and get the result: (x,y) = (2,6) \n",
    "$$ -5x + 2y = 2 $$\n",
    "$$ <=> y = 1 + \\frac{5x}{2} $$\n"
   ]
  },
  {
   "cell_type": "code",
   "execution_count": 23,
   "id": "4ae4048f",
   "metadata": {},
   "outputs": [],
   "source": [
    "x = np.linspace(-10, 10, 1000)\n",
    "y1 = 3*x\n",
    "y2 = 1 + (5*x)/2"
   ]
  },
  {
   "cell_type": "code",
   "execution_count": 25,
   "id": "8169f47c",
   "metadata": {},
   "outputs": [
    {
     "data": {
      "image/png": "[encoded data removed]",
      "text/plain": [
       "<Figure size 640x480 with 1 Axes>"
      ]
     },
     "metadata": {},
     "output_type": "display_data"
    }
   ],
   "source": [
    "fig,ax = plt.subplots()\n",
    "plt.xlabel('x')\n",
    "plt.ylabel('y')\n",
    "ax.set_xlim([0,3])\n",
    "ax.set_ylim([0,8])\n",
    "\n",
    "ax.plot(x, y1, c='green')\n",
    "ax.plot(x, y2, c='brown')\n",
    "\n",
    "plt.axvline(x=2, color='purple', linestyle='--')\n",
    "plt.axhline(y=6, color='purple', linestyle='--')\n",
    "plt.show()\n",
    "# Look at the result below, the two lines intersect at (2,6)"
   ]
  },
  {
   "cell_type": "markdown",
   "id": "b620a1be",
   "metadata": {},
   "source": [
    "### Example 2:\n",
    "$$ 2x - 3y = 15 $$\n",
    "$$ 4x + 10y = 14 $$\n",
    "- Solving these two equations in the systems, we get the result **(x,y) = (6,-1)**\n",
    "- Rearrage both equations to isolate y, we get two equations:\n",
    "$$ y_1 = -5 + \\frac{2x}{3} $$\n",
    "$$ y_2 = \\frac{7-2x}{5} $$"
   ]
  },
  {
   "cell_type": "code",
   "execution_count": 40,
   "id": "f3d7d33e",
   "metadata": {},
   "outputs": [],
   "source": [
    "x = np.linspace(-10,10,1000)\n",
    "y1 = -5 + 2*x/3\n",
    "y2 = (7-2*x) /5"
   ]
  },
  {
   "cell_type": "code",
   "execution_count": 43,
   "id": "e6432dcb",
   "metadata": {},
   "outputs": [
    {
     "data": {
      "image/png": "[encoded data removed]",
      "text/plain": [
       "<Figure size 640x480 with 1 Axes>"
      ]
     },
     "metadata": {},
     "output_type": "display_data"
    }
   ],
   "source": [
    "fig, ax = plt.subplots()\n",
    "\n",
    "ax.set_xlabel('x')\n",
    "ax.set_ylabel('y')\n",
    "ax.set_xlim([-2,10])\n",
    "ax.set_ylim([-5,4])\n",
    "\n",
    "ax.plot(x,y1,color='green')\n",
    "ax.plot(x,y2,color='brown')\n",
    "\n",
    "\n",
    "plt.axvline(x=6,color='purple', linestyle='--')\n",
    "plt.axhline(y=-1, color='purple', linestyle='--')\n",
    "plt.show()"
   ]
  }
 ],
 "metadata": {
  "kernelspec": {
   "display_name": "cs685hw",
   "language": "python",
   "name": "python3"
  },
  "language_info": {
   "codemirror_mode": {
    "name": "ipython",
    "version": 3
   },
   "file_extension": ".py",
   "mimetype": "text/x-python",
   "name": "python",
   "nbconvert_exporter": "python",
   "pygments_lexer": "ipython3",
   "version": "3.10.16"
  }
 },
 "nbformat": 4,
 "nbformat_minor": 5
}
