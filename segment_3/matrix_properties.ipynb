{
 "cells": [
  {
   "cell_type": "markdown",
   "id": "2fe45840",
   "metadata": {},
   "source": [
    "# Segment 3: Matrix Properties"
   ]
  },
  {
   "cell_type": "markdown",
   "id": "4dbfd49c",
   "metadata": {},
   "source": [
    "## 24. Frobenius norm"
   ]
  },
  {
   "cell_type": "code",
   "execution_count": 12,
   "id": "cb35001e",
   "metadata": {},
   "outputs": [],
   "source": [
    "import numpy as np\n",
    "import torch"
   ]
  },
  {
   "cell_type": "code",
   "execution_count": 13,
   "id": "f338225a",
   "metadata": {},
   "outputs": [
    {
     "data": {
      "text/plain": [
       "5.477225575051661"
      ]
     },
     "execution_count": 13,
     "metadata": {},
     "output_type": "execute_result"
    }
   ],
   "source": [
    "X = np.array([[1,2],[3,4]])\n",
    "frobenius_norm = np.linalg.norm(X) # or L2 norm\n",
    "frobenius_norm"
   ]
  },
  {
   "cell_type": "code",
   "execution_count": 14,
   "id": "849f0dc3",
   "metadata": {},
   "outputs": [
    {
     "name": "stdout",
     "output_type": "stream",
     "text": [
      "tensor(5.4772)\n"
     ]
    }
   ],
   "source": [
    "X_pt = torch.tensor([[1.,2.],[3.,4.]])\n",
    "print(torch.linalg.norm(X_pt))"
   ]
  },
  {
   "cell_type": "markdown",
   "id": "0ae372b9",
   "metadata": {},
   "source": [
    "## 25. Matrix Multiplication "
   ]
  },
  {
   "cell_type": "code",
   "execution_count": 15,
   "id": "dd6a23cc",
   "metadata": {},
   "outputs": [
    {
     "name": "stdout",
     "output_type": "stream",
     "text": [
      "[[ 7  4 10]\n",
      " [17 10 22]\n",
      " [27 16 34]]\n",
      "[[ 7  4 10]\n",
      " [17 10 22]\n",
      " [27 16 34]]\n"
     ]
    }
   ],
   "source": [
    "X = np.array([[1,2],[3,4],[5,6]]) # 3x2\n",
    "Y = np.array([[3,2, 2],[2,1,4]]) # 2x3\n",
    "# XY = X@Y # 3x3\n",
    "print(X@Y)\n",
    "print(np.matmul(X,Y))"
   ]
  },
  {
   "cell_type": "code",
   "execution_count": 16,
   "id": "c06f71ba",
   "metadata": {},
   "outputs": [
    {
     "name": "stdout",
     "output_type": "stream",
     "text": [
      "tensor([[ 7,  4, 10],\n",
      "        [17, 10, 22],\n",
      "        [27, 16, 34]], dtype=torch.int32)\n",
      "tensor([[ 7,  4, 10],\n",
      "        [17, 10, 22],\n",
      "        [27, 16, 34]], dtype=torch.int32)\n"
     ]
    }
   ],
   "source": [
    "X_pt = torch.from_numpy(X) # 3x2\n",
    "X_pt\n",
    "Y_pt = torch.tensor([[3,2, 2],[2,1,4]],dtype=torch.int32) # 2x3\n",
    "print(X_pt@Y_pt)\n",
    "print(torch.matmul(X_pt,Y_pt))"
   ]
  },
  {
   "cell_type": "markdown",
   "id": "649fcf5e",
   "metadata": {},
   "source": [
    "## 26. Symmetric and Identity Matrices\n",
    "- Symmetric matrix: Square, $X^T = X$\n",
    "- Indentity matrix ($I_n$): every element along main diagonal is 1, other elements are 0\n",
    "  + n-length vector unchanged if multiplied by $I_n$"
   ]
  },
  {
   "cell_type": "code",
   "execution_count": 17,
   "id": "f0a7903c",
   "metadata": {},
   "outputs": [
    {
     "name": "stdout",
     "output_type": "stream",
     "text": [
      "[[ True  True  True]\n",
      " [ True  True  True]\n",
      " [ True  True  True]]\n"
     ]
    }
   ],
   "source": [
    "X_sym = np.array([[0,1,2],[1,7,8],[2,8,9]])\n",
    "print(X_sym.T == X_sym)"
   ]
  },
  {
   "cell_type": "code",
   "execution_count": 18,
   "id": "c96d264a",
   "metadata": {},
   "outputs": [
    {
     "name": "stdout",
     "output_type": "stream",
     "text": [
      "tensor([3, 6, 7])\n",
      "tensor([3, 6, 7])\n"
     ]
    }
   ],
   "source": [
    "# Identity matrix\n",
    "I = torch.tensor([[1,0,0],[0,1,0],[0,0,1]])\n",
    "x_pt = torch.tensor([3,6,7])\n",
    "print(I.matmul(x_pt))\n",
    "print(x_pt.matmul(I))"
   ]
  },
  {
   "cell_type": "markdown",
   "id": "dd1c4507",
   "metadata": {},
   "source": [
    "## 27. Matrix Multiplication Excercises"
   ]
  },
  {
   "cell_type": "code",
   "execution_count": 19,
   "id": "eaf54023",
   "metadata": {},
   "outputs": [
    {
     "name": "stdout",
     "output_type": "stream",
     "text": [
      "tensor([ -3,  -9, -15])\n",
      "tensor([ -3,  -9, -15])\n",
      "tensor([[ -3,   5],\n",
      "        [ -9,  14],\n",
      "        [-15,  23]])\n"
     ]
    }
   ],
   "source": [
    "A = torch.tensor([[0,1,2],[3,4,5],[6,7,8]])\n",
    "B = torch.tensor([-1,1,-2])\n",
    "C = torch.tensor([[-1,0],[1,1],[-2,2]])\n",
    "# My result: A.B = [-3, -9, -15]\n",
    "# My result: A.C = [[-3, -9, -15], [5, 14, 23]]\n",
    "print(A.matmul(B))\n",
    "print(torch.matmul(A,B))\n",
    "print(torch.matmul(A,C))"
   ]
  },
  {
   "cell_type": "markdown",
   "id": "65fcbff3",
   "metadata": {},
   "source": [
    "## 28. Matrix Inversion\n",
    "- $ X^{-1} . X = I_n$\n",
    "y = Xw\n",
    "- Assuming $X^{-1}$ exists, matrix inversion can solve for w:\n",
    "  + w = $X^{-1}y$\n",
    "- Singular matrix: square, does not have an inverse, determinant = 0"
   ]
  },
  {
   "cell_type": "code",
   "execution_count": 20,
   "id": "4a48cfeb",
   "metadata": {},
   "outputs": [
    {
     "data": {
      "text/plain": [
       "tensor([-1.,  4.])"
      ]
     },
     "execution_count": 20,
     "metadata": {},
     "output_type": "execute_result"
    }
   ],
   "source": [
    "X = torch.tensor([[4.,2.],[-5.,-3.]])\n",
    "y = torch.tensor([4.,-7.])\n",
    "w = torch.matmul(torch.inverse(X), y)\n",
    "w"
   ]
  },
  {
   "cell_type": "code",
   "execution_count": 21,
   "id": "3f8b2fe8",
   "metadata": {},
   "outputs": [
    {
     "ename": "LinAlgError",
     "evalue": "Singular matrix",
     "output_type": "error",
     "traceback": [
      "\u001b[1;31m---------------------------------------------------------------------------\u001b[0m",
      "\u001b[1;31mLinAlgError\u001b[0m                               Traceback (most recent call last)",
      "Cell \u001b[1;32mIn[21], line 3\u001b[0m\n\u001b[0;32m      1\u001b[0m \u001b[38;5;66;03m# Singular matrix\u001b[39;00m\n\u001b[0;32m      2\u001b[0m X \u001b[38;5;241m=\u001b[39m np\u001b[38;5;241m.\u001b[39marray([[\u001b[38;5;241m-\u001b[39m\u001b[38;5;241m4\u001b[39m,\u001b[38;5;241m1\u001b[39m],[\u001b[38;5;241m-\u001b[39m\u001b[38;5;241m8\u001b[39m,\u001b[38;5;241m2\u001b[39m]])\n\u001b[1;32m----> 3\u001b[0m X_inv \u001b[38;5;241m=\u001b[39m \u001b[43mnp\u001b[49m\u001b[38;5;241;43m.\u001b[39;49m\u001b[43mlinalg\u001b[49m\u001b[38;5;241;43m.\u001b[39;49m\u001b[43minv\u001b[49m\u001b[43m(\u001b[49m\u001b[43mX\u001b[49m\u001b[43m)\u001b[49m\n",
      "File \u001b[1;32mc:\\Users\\ADMIN\\anaconda3\\envs\\cs685hw\\lib\\site-packages\\numpy\\linalg\\linalg.py:561\u001b[0m, in \u001b[0;36minv\u001b[1;34m(a)\u001b[0m\n\u001b[0;32m    559\u001b[0m signature \u001b[38;5;241m=\u001b[39m \u001b[38;5;124m'\u001b[39m\u001b[38;5;124mD->D\u001b[39m\u001b[38;5;124m'\u001b[39m \u001b[38;5;28;01mif\u001b[39;00m isComplexType(t) \u001b[38;5;28;01melse\u001b[39;00m \u001b[38;5;124m'\u001b[39m\u001b[38;5;124md->d\u001b[39m\u001b[38;5;124m'\u001b[39m\n\u001b[0;32m    560\u001b[0m extobj \u001b[38;5;241m=\u001b[39m get_linalg_error_extobj(_raise_linalgerror_singular)\n\u001b[1;32m--> 561\u001b[0m ainv \u001b[38;5;241m=\u001b[39m \u001b[43m_umath_linalg\u001b[49m\u001b[38;5;241;43m.\u001b[39;49m\u001b[43minv\u001b[49m\u001b[43m(\u001b[49m\u001b[43ma\u001b[49m\u001b[43m,\u001b[49m\u001b[43m \u001b[49m\u001b[43msignature\u001b[49m\u001b[38;5;241;43m=\u001b[39;49m\u001b[43msignature\u001b[49m\u001b[43m,\u001b[49m\u001b[43m \u001b[49m\u001b[43mextobj\u001b[49m\u001b[38;5;241;43m=\u001b[39;49m\u001b[43mextobj\u001b[49m\u001b[43m)\u001b[49m\n\u001b[0;32m    562\u001b[0m \u001b[38;5;28;01mreturn\u001b[39;00m wrap(ainv\u001b[38;5;241m.\u001b[39mastype(result_t, copy\u001b[38;5;241m=\u001b[39m\u001b[38;5;28;01mFalse\u001b[39;00m))\n",
      "File \u001b[1;32mc:\\Users\\ADMIN\\anaconda3\\envs\\cs685hw\\lib\\site-packages\\numpy\\linalg\\linalg.py:112\u001b[0m, in \u001b[0;36m_raise_linalgerror_singular\u001b[1;34m(err, flag)\u001b[0m\n\u001b[0;32m    111\u001b[0m \u001b[38;5;28;01mdef\u001b[39;00m\u001b[38;5;250m \u001b[39m\u001b[38;5;21m_raise_linalgerror_singular\u001b[39m(err, flag):\n\u001b[1;32m--> 112\u001b[0m     \u001b[38;5;28;01mraise\u001b[39;00m LinAlgError(\u001b[38;5;124m\"\u001b[39m\u001b[38;5;124mSingular matrix\u001b[39m\u001b[38;5;124m\"\u001b[39m)\n",
      "\u001b[1;31mLinAlgError\u001b[0m: Singular matrix"
     ]
    }
   ],
   "source": [
    "# Singular matrix\n",
    "X = np.array([[-4,1],[-8,2]])\n",
    "X_inv = np.linalg.inv(X)"
   ]
  },
  {
   "cell_type": "markdown",
   "id": "ec79c43e",
   "metadata": {},
   "source": [
    "## 29. Diagonal Matrices\n",
    "- Identity matrix is a special type of diagonal matrices\n",
    "- If square: diag(x), x is vector of main-diagonal elements"
   ]
  },
  {
   "cell_type": "code",
   "execution_count": null,
   "id": "babc4210",
   "metadata": {},
   "outputs": [
    {
     "data": {
      "text/plain": [
       "array([[3, 0, 0],\n",
       "       [0, 2, 0],\n",
       "       [0, 0, 9]])"
      ]
     },
     "execution_count": 13,
     "metadata": {},
     "output_type": "execute_result"
    }
   ],
   "source": [
    "X = np.array([[3,0,0],[0,2,0],[0,0,9]])\n",
    "X"
   ]
  },
  {
   "cell_type": "markdown",
   "id": "6f880383",
   "metadata": {},
   "source": [
    "## 30. Orthogonal Matrices\n",
    "- $A^TA = AA^T = I $\n",
    "- $ A^T = A^{-1}I = A^{-1}$"
   ]
  },
  {
   "cell_type": "code",
   "execution_count": null,
   "id": "3f0b3638",
   "metadata": {},
   "outputs": [
    {
     "name": "stdout",
     "output_type": "stream",
     "text": [
      "0\n"
     ]
    }
   ],
   "source": [
    "# Orthogonal vectors\n",
    "i = np.array([1,0])\n",
    "j = np.array([0,1])\n",
    "print(i.dot(j))"
   ]
  },
  {
   "cell_type": "markdown",
   "id": "23b86fdb",
   "metadata": {},
   "source": [
    "## 31. Orthogonal Matrix Excercises\n",
    "- Identity matrices are orthogonal"
   ]
  },
  {
   "cell_type": "code",
   "execution_count": null,
   "id": "c1a8f187",
   "metadata": {},
   "outputs": [
    {
     "name": "stdout",
     "output_type": "stream",
     "text": [
      "0 0 0\n",
      "1.0\n",
      "1.0\n",
      "1.0\n"
     ]
    },
    {
     "data": {
      "text/plain": [
       "True"
      ]
     },
     "execution_count": 38,
     "metadata": {},
     "output_type": "execute_result"
    }
   ],
   "source": [
    "I3 = np.array([[1,0,0],[0,1,0],[0,0,1]])\n",
    "\n",
    "# Dot product of columns\n",
    "dot_col_1_2 = I3[:,0].dot(I3[:,1])\n",
    "dot_col_1_3 = I3[:,0].dot(I3[:,2])\n",
    "dot_col_2_3 = I3[:,1].dot(I3[:,2])\n",
    "print(dot_col_1_2,dot_col_1_3,dot_col_1_3)\n",
    "\n",
    "# Norms of columns\n",
    "print(np.linalg.norm(I3[:,0]))\n",
    "print(np.linalg.norm(I3[:,1]))\n",
    "print(np.linalg.norm(I3[:,2]))\n",
    "\n",
    "# \n",
    "is_orthogonal = np.allclose(I3.T @ I3, np.eye(I3.shape[0]))\n",
    "is_orthogonal"
   ]
  },
  {
   "cell_type": "code",
   "execution_count": 23,
   "id": "1bc8f962",
   "metadata": {},
   "outputs": [
    {
     "name": "stdout",
     "output_type": "stream",
     "text": [
      "0.0\n",
      "0.0\n",
      "0.0\n",
      "1.0\n",
      "1.0\n",
      "1.0\n",
      "Is K orthogonal:  True\n"
     ]
    }
   ],
   "source": [
    "K = np.array([[2/3,1/3,2/3],[-2/3,2/3,1/3],[1/3,2/3,-2/3]])\n",
    "\n",
    "# Dot products of columns\n",
    "print(K[:,0].dot(K[:,1]))\n",
    "print(K[:,0].dot(K[:,2]))\n",
    "print(K[:,1].dot(K[:,2]))\n",
    "\n",
    "# Norms of columns\n",
    "print(np.linalg.norm(K[:,0]))\n",
    "print(np.linalg.norm(K[:,1]))\n",
    "print(np.linalg.norm(K[:,2]))\n",
    "\n",
    "# \n",
    "is_orthogonal = np.allclose(K.T @ K, np.eye(K.shape[0]))\n",
    "print(\"Is K orthogonal: \",is_orthogonal)"
   ]
  },
  {
   "cell_type": "markdown",
   "id": "cf745e3d",
   "metadata": {},
   "source": [
    "$ Q^{-1} = Q^T$"
   ]
  },
  {
   "cell_type": "code",
   "execution_count": null,
   "id": "489099d0",
   "metadata": {},
   "outputs": [
    {
     "name": "stdout",
     "output_type": "stream",
     "text": [
      "True\n"
     ]
    }
   ],
   "source": [
    "print(np.allclose(np.linalg.inv(K), np.transpose(K)))"
   ]
  },
  {
   "cell_type": "code",
   "execution_count": null,
   "id": "5fb57120",
   "metadata": {},
   "outputs": [],
   "source": []
  }
 ],
 "metadata": {
  "kernelspec": {
   "display_name": "cs685hw",
   "language": "python",
   "name": "python3"
  },
  "language_info": {
   "codemirror_mode": {
    "name": "ipython",
    "version": 3
   },
   "file_extension": ".py",
   "mimetype": "text/x-python",
   "name": "python",
   "nbconvert_exporter": "python",
   "pygments_lexer": "ipython3",
   "version": "3.10.16"
  }
 },
 "nbformat": 4,
 "nbformat_minor": 5
}
